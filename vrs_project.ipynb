{
  "nbformat": 4,
  "nbformat_minor": 0,
  "metadata": {
    "colab": {
      "provenance": [],
      "authorship_tag": "ABX9TyOez4xvnbb5UqL5m97dHg/y",
      "include_colab_link": true
    },
    "kernelspec": {
      "name": "python3",
      "display_name": "Python 3"
    },
    "language_info": {
      "name": "python"
    }
  },
  "cells": [
    {
      "cell_type": "markdown",
      "metadata": {
        "id": "view-in-github",
        "colab_type": "text"
      },
      "source": [
        "<a href=\"https://colab.research.google.com/github/Anjana-0/vrp-project/blob/main/vrs_project.ipynb\" target=\"_parent\"><img src=\"https://colab.research.google.com/assets/colab-badge.svg\" alt=\"Open In Colab\"/></a>"
      ]
    },
    {
      "cell_type": "code",
      "execution_count": null,
      "metadata": {
        "colab": {
          "base_uri": "https://localhost:8080/"
        },
        "id": "4rH9FdEWktsu",
        "outputId": "0ee730a0-3043-4868-e6b3-1d9ab4d8b707"
      },
      "outputs": [
        {
          "output_type": "stream",
          "name": "stdout",
          "text": [
            "Requirement already satisfied: matplotlib in /usr/local/lib/python3.10/dist-packages (3.10.0)\n",
            "Collecting deap\n",
            "  Downloading deap-1.4.2-cp310-cp310-manylinux_2_5_x86_64.manylinux1_x86_64.manylinux_2_17_x86_64.manylinux2014_x86_64.whl.metadata (13 kB)\n",
            "Requirement already satisfied: contourpy>=1.0.1 in /usr/local/lib/python3.10/dist-packages (from matplotlib) (1.3.1)\n",
            "Requirement already satisfied: cycler>=0.10 in /usr/local/lib/python3.10/dist-packages (from matplotlib) (0.12.1)\n",
            "Requirement already satisfied: fonttools>=4.22.0 in /usr/local/lib/python3.10/dist-packages (from matplotlib) (4.55.3)\n",
            "Requirement already satisfied: kiwisolver>=1.3.1 in /usr/local/lib/python3.10/dist-packages (from matplotlib) (1.4.8)\n",
            "Requirement already satisfied: numpy>=1.23 in /usr/local/lib/python3.10/dist-packages (from matplotlib) (1.26.4)\n",
            "Requirement already satisfied: packaging>=20.0 in /usr/local/lib/python3.10/dist-packages (from matplotlib) (24.2)\n",
            "Requirement already satisfied: pillow>=8 in /usr/local/lib/python3.10/dist-packages (from matplotlib) (11.1.0)\n",
            "Requirement already satisfied: pyparsing>=2.3.1 in /usr/local/lib/python3.10/dist-packages (from matplotlib) (3.2.1)\n",
            "Requirement already satisfied: python-dateutil>=2.7 in /usr/local/lib/python3.10/dist-packages (from matplotlib) (2.8.2)\n",
            "Requirement already satisfied: six>=1.5 in /usr/local/lib/python3.10/dist-packages (from python-dateutil>=2.7->matplotlib) (1.17.0)\n",
            "Downloading deap-1.4.2-cp310-cp310-manylinux_2_5_x86_64.manylinux1_x86_64.manylinux_2_17_x86_64.manylinux2014_x86_64.whl (135 kB)\n",
            "\u001b[2K   \u001b[90m━━━━━━━━━━━━━━━━━━━━━━━━━━━━━━━━━━━━━━━━\u001b[0m \u001b[32m135.3/135.3 kB\u001b[0m \u001b[31m4.7 MB/s\u001b[0m eta \u001b[36m0:00:00\u001b[0m\n",
            "\u001b[?25hInstalling collected packages: deap\n",
            "Successfully installed deap-1.4.2\n"
          ]
        }
      ],
      "source": [
        "#TASK 1 - Install matplotlib and deap\n",
        "#       - Import all necessary libraries\n",
        "#TASK 1 - Install matplotlib and deap\n",
        "!pip install matplotlib deap\n",
        "import random\n",
        "\n",
        "import numpy as np\n",
        "import matplotlib.pyplot as plt\n",
        "from deap import base, creator, tools, algorithms"
      ]
    },
    {
      "cell_type": "code",
      "source": [
        "#SOLUTION\n",
        "!pip install matplotlib deap\n",
        "\n",
        "# Required Libraries\n",
        "import random\n",
        "import numpy as np\n",
        "import matplotlib.pyplot as plt\n",
        "from deap import base, creator, tools, algorithms"
      ],
      "metadata": {
        "colab": {
          "base_uri": "https://localhost:8080/"
        },
        "id": "Cp6-UpvMl_Qd",
        "outputId": "e9165131-0ea8-4e2d-e29d-812a63a02b79"
      },
      "execution_count": null,
      "outputs": [
        {
          "output_type": "stream",
          "name": "stdout",
          "text": [
            "Requirement already satisfied: matplotlib in /usr/local/lib/python3.10/dist-packages (3.10.0)\n",
            "Requirement already satisfied: deap in /usr/local/lib/python3.10/dist-packages (1.4.2)\n",
            "Requirement already satisfied: contourpy>=1.0.1 in /usr/local/lib/python3.10/dist-packages (from matplotlib) (1.3.1)\n",
            "Requirement already satisfied: cycler>=0.10 in /usr/local/lib/python3.10/dist-packages (from matplotlib) (0.12.1)\n",
            "Requirement already satisfied: fonttools>=4.22.0 in /usr/local/lib/python3.10/dist-packages (from matplotlib) (4.55.3)\n",
            "Requirement already satisfied: kiwisolver>=1.3.1 in /usr/local/lib/python3.10/dist-packages (from matplotlib) (1.4.8)\n",
            "Requirement already satisfied: numpy>=1.23 in /usr/local/lib/python3.10/dist-packages (from matplotlib) (1.26.4)\n",
            "Requirement already satisfied: packaging>=20.0 in /usr/local/lib/python3.10/dist-packages (from matplotlib) (24.2)\n",
            "Requirement already satisfied: pillow>=8 in /usr/local/lib/python3.10/dist-packages (from matplotlib) (11.1.0)\n",
            "Requirement already satisfied: pyparsing>=2.3.1 in /usr/local/lib/python3.10/dist-packages (from matplotlib) (3.2.1)\n",
            "Requirement already satisfied: python-dateutil>=2.7 in /usr/local/lib/python3.10/dist-packages (from matplotlib) (2.8.2)\n",
            "Requirement already satisfied: six>=1.5 in /usr/local/lib/python3.10/dist-packages (from python-dateutil>=2.7->matplotlib) (1.17.0)\n"
          ]
        }
      ]
    },
    {
      "cell_type": "code",
      "source": [
        "# TODO: Task 2 - Define the number of locations and vehicles\n",
        "\n",
        "num_locations = 10\n",
        "\n",
        "locations = [(random.randint(0,100), random.randint(0,100)) for _ in range(num_locations)]\n",
        "\n",
        "depot = (random.randint(0,100), random.randint(0,100))\n",
        "\n",
        "num_vehicles = 3"
      ],
      "metadata": {
        "id": "dg5-gkBUmSKY"
      },
      "execution_count": null,
      "outputs": []
    },
    {
      "cell_type": "code",
      "source": [
        "#SOLUTION\n",
        "\n",
        "num_locations = 20  # Define how many locations (excluding the depot) the vehicles need to visit\n",
        "locations = [(random.randint(0, 100), random.randint(0, 100)) for _ in range(num_locations)]  # Generate random (x, y) coordinates for each location\n",
        "depot = (50, 50)  # Define the central depot location as a fixed point\n",
        "num_vehicles = 3  # Define how many vehicles are available to visit the locations"
      ],
      "metadata": {
        "id": "Xy0jzRryn8Xk"
      },
      "execution_count": null,
      "outputs": []
    },
    {
      "cell_type": "code",
      "source": [
        "# TASK 3 - Genetic Algorithm Setup\n",
        "       # - Figure out how to represent an individual OR encode an individual\n",
        "\n",
        "creator.create(\"FitnessMin\", base.Fitness, weights=(-1.0,))\n",
        "creator.create(\"Individual\",list, fitness=creator.FitnessMin )"
      ],
      "metadata": {
        "id": "D7oRNNyroD8R"
      },
      "execution_count": null,
      "outputs": []
    },
    {
      "cell_type": "code",
      "source": [
        "#TASK 4 - Starting with the toolbox and tools\n",
        "\n",
        "toolbox = base.Toolbox()\n",
        "toolbox.register(\"indices\", random.sample, range(num_locations), num_locations)\n",
        "toolbox.register(\"individual\", tools.initIterate, creator.Individual, toolbox.indices )\n",
        "toolbox.register(\"population\", tools.initRepeat, list, toolbox.individual)\n",
        "population = toolbox.population(n=15)\n",
        "print(\"Sample individual:\", population[0])\n",
        "print(\"Population size:\", len(population))\n"
      ],
      "metadata": {
        "colab": {
          "base_uri": "https://localhost:8080/"
        },
        "id": "DTBR6Y3poakh",
        "outputId": "a15d5505-b323-4eb0-cf0a-0981f1adc83f"
      },
      "execution_count": null,
      "outputs": [
        {
          "output_type": "stream",
          "name": "stdout",
          "text": [
            "Sample individual: [5, 6, 1, 9, 3, 10, 18, 7, 14, 15, 12, 4, 0, 2, 11, 19, 17, 16, 13, 8]\n",
            "Population size: 15\n"
          ]
        }
      ]
    },
    {
      "cell_type": "code",
      "source": [
        "# TASK 5 and 6\n",
        "def evalVRP(individual):\n",
        "    \"\"\"\n",
        "    Fitness evaluation function for the Vehicle Routing Problem.\n",
        "    Calculates:\n",
        "    - Total distance of the route\n",
        "    - Standard deviation of route distances\n",
        "    \"\"\"\n",
        "    total_distance = 0\n",
        "    route_distances = []\n",
        "\n",
        "    # Split the individual into separate routes (e.g., assume -1 marks route separation)\n",
        "    routes = []\n",
        "    current_route = []\n",
        "    for gene in individual:\n",
        "        if gene == -1:  # Separator\n",
        "            if current_route:\n",
        "                routes.append(current_route)\n",
        "                current_route = []\n",
        "        else:\n",
        "            current_route.append(gene)\n",
        "    if current_route:\n",
        "        routes.append(current_route)\n",
        "\n",
        "    # Calculate the distance for each route\n",
        "    for route in routes:\n",
        "        route_distance = 0\n",
        "        if len(route) > 1:\n",
        "            for i in range(len(route) - 1):\n",
        "                route_distance += distance_matrix[route[i]][route[i + 1]]\n",
        "            # Add return to the depot (assume depot is node 0)\n",
        "            route_distance += distance_matrix[route[-1]][0]\n",
        "        elif len(route) == 1:  # Single node route, add return to depot\n",
        "            route_distance += 2 * distance_matrix[route[0]][0]\n",
        "\n",
        "        route_distances.append(route_distance)\n",
        "        total_distance += route_distance\n",
        "\n",
        "    # Calculate standard deviation of distances\n",
        "    std_dev = np.std(route_distances)\n",
        "    return total_distance, std_dev\n",
        "\n",
        "\n",
        "\n",
        "\n",
        "#TASK 6 - Register the evaluate function in the toolbox\n",
        "The fitness evaluation function computes the total distance traveled and the standard deviation of distances across the routes defined by an individual. Here's an example implementation:\n",
        "\n",
        "python\n",
        "Copy code\n",
        "import numpy as np\n",
        "\n",
        "# Example distance matrix (replace with the actual data for your problem)\n",
        "distance_matrix = [\n",
        "    [0, 29, 20, 21],\n",
        "    [29, 0, 15, 17],\n",
        "    [20, 15, 0, 28],\n",
        "    [21, 17, 28, 0]\n",
        "]\n",
        "\n",
        "def evalVRP(individual):\n",
        "    \"\"\"\n",
        "    Fitness evaluation function for the Vehicle Routing Problem.\n",
        "    Calculates:\n",
        "    - Total distance of the route\n",
        "    - Standard deviation of route distances\n",
        "    \"\"\"\n",
        "    total_distance = 0\n",
        "    route_distances = []\n",
        "\n",
        "    # Split the individual into separate routes (e.g., assume -1 marks route separation)\n",
        "    routes = []\n",
        "    current_route = []\n",
        "    for gene in individual:\n",
        "        if gene == -1:  # Separator\n",
        "            if current_route:\n",
        "                routes.append(current_route)\n",
        "                current_route = []\n",
        "        else:\n",
        "            current_route.append(gene)\n",
        "    if current_route:\n",
        "        routes.append(current_route)\n",
        "\n",
        "    # Calculate the distance for each route\n",
        "    for route in routes:\n",
        "        route_distance = 0\n",
        "        if len(route) > 1:\n",
        "            for i in range(len(route) - 1):\n",
        "                route_distance += distance_matrix[route[i]][route[i + 1]]\n",
        "            # Add return to the depot (assume depot is node 0)\n",
        "            route_distance += distance_matrix[route[-1]][0]\n",
        "        elif len(route) == 1:  # Single node route, add return to depot\n",
        "            route_distance += 2 * distance_matrix[route[0]][0]\n",
        "\n",
        "        route_distances.append(route_distance)\n",
        "        total_distance += route_distance\n",
        "\n",
        "    # Calculate standard deviation of distances\n",
        "    std_dev = np.std(route_distances)\n",
        "    return total_distance, std_dev\n",
        "Task 6: Register the Evaluate Function in the Toolbox\n",
        "Once the evaluation function is implemented, it needs to be registered in the DEAP toolbox"
      ],
      "metadata": {
        "id": "s6cvBTljpLm0"
      },
      "execution_count": null,
      "outputs": []
    }
  ]
}